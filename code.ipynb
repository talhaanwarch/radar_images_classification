{
 "cells": [
  {
   "cell_type": "code",
   "execution_count": 1,
   "id": "6b3a418a",
   "metadata": {},
   "outputs": [],
   "source": [
    "import numpy as np\n",
    "import pandas as pd\n",
    "import matplotlib.pyplot as plt\n",
    "import os\n",
    "from pytorch_lightning import seed_everything, LightningModule, Trainer\n",
    "from sklearn.utils import class_weight\n",
    "import torch.nn as nn\n",
    "import torch\n",
    "from pytorch_lightning.callbacks import EarlyStopping,ModelCheckpoint,LearningRateMonitor\n",
    "from torch.optim.lr_scheduler import CyclicLR, ReduceLROnPlateau,CosineAnnealingWarmRestarts,OneCycleLR,CosineAnnealingLR\n",
    "import torchvision\n",
    "from sklearn.metrics import classification_report,f1_score,accuracy_score\n",
    "from PIL import Image\n",
    "from torch.utils.data import DataLoader, Dataset,random_split\n",
    "import timm\n",
    "import torchmetrics\n",
    "import torchvision.models as models"
   ]
  },
  {
   "cell_type": "code",
   "execution_count": 2,
   "id": "9202c770",
   "metadata": {},
   "outputs": [],
   "source": [
    "img_size=224\n",
    "import albumentations as A\n",
    "from albumentations.pytorch import ToTensorV2\n",
    "aug= A.Compose([\n",
    "            A.Resize(img_size,img_size),\n",
    "            A.HorizontalFlip(0.5),\n",
    "            A.VerticalFlip(),\n",
    "            A.RandomRotate90(),\n",
    "            A.Normalize(),\n",
    "            ToTensorV2(p=1.0),\n",
    "        ], p=1.0)"
   ]
  },
  {
   "cell_type": "code",
   "execution_count": 3,
   "id": "ef432f03",
   "metadata": {},
   "outputs": [],
   "source": [
    "class DataReader(Dataset):\n",
    "    def __init__(self, dataset, transform=None):\n",
    "        self.dataset = dataset\n",
    "        self.transform = transform\n",
    "\n",
    "    def __getitem__(self, index):\n",
    "        x=self.dataset[index][0]\n",
    "        y=self.dataset[index][1]\n",
    "        if self.transform:\n",
    "            x=np.array(x)\n",
    "            x=self.transform(image=x)['image']\n",
    "        return x, y\n",
    "    \n",
    "    def __len__(self):\n",
    "        return len(self.dataset)"
   ]
  },
  {
   "cell_type": "code",
   "execution_count": 6,
   "id": "12bdcaac",
   "metadata": {},
   "outputs": [],
   "source": [
    "class OurModel(LightningModule):\n",
    "    def __init__(self):\n",
    "        super(OurModel,self).__init__()\n",
    "        #architecute\n",
    "        self.model =  timm.create_model(model_name,pretrained=True)\n",
    "        self.fc1=nn.Linear(1000,500)\n",
    "        self.relu=nn.ReLU()\n",
    "        self.fc2= nn.Linear(500,5)\n",
    " \n",
    "        #parameters\n",
    "        self.lr=1e-3\n",
    "        self.batch_size=64\n",
    "        self.numworker=12\n",
    "        self.acc = torchmetrics.Accuracy()\n",
    "        self.criterion=nn.CrossEntropyLoss()\n",
    "        \n",
    "        self.trainacc,self.valacc=[],[]\n",
    "        self.trainloss,self.valloss=[],[]\n",
    "                \n",
    "        self.dataset=torchvision.datasets.ImageFolder('dataset')\n",
    "        \n",
    "        self.train_set, self.val_set =random_split(self.dataset,\n",
    "                            [int(len(self.dataset)*0.7), int(len(self.dataset)*0.3)],\n",
    "                                                  generator=torch.Generator().manual_seed(42))\n",
    "    def forward(self,x):\n",
    "        x= self.model(x)\n",
    "        x=self.fc1(x)\n",
    "        x=self.relu(x)\n",
    "        x=self.fc2(x)\n",
    "        return x\n",
    "\n",
    "    def mixup_data(self,x, y, alpha=1.0):\n",
    "        '''Returns mixed inputs, pairs of targets, and lambda'''\n",
    "        if alpha > 0:\n",
    "            lam = np.random.beta(alpha, alpha)\n",
    "        else:\n",
    "            lam = 1\n",
    "\n",
    "        batch_size = x.size()[0]\n",
    "        index = torch.randperm(batch_size)\n",
    "        mixed_x = lam * x + (1 - lam) * x[index, :]\n",
    "        y_a, y_b = y, y[index]\n",
    "        return mixed_x, y_a, y_b, lam\n",
    "\n",
    "\n",
    "    def mixup_criterion(self, pred, y_a, y_b, lam):\n",
    "        return lam * self.criterion(pred, y_a) + (1 - lam) * self.criterion(pred, y_b)\n",
    "    \n",
    "    \n",
    "    def configure_optimizers(self):\n",
    "        opt=torch.optim.AdamW(params=self.parameters(),lr=self.lr )\n",
    "        scheduler=CosineAnnealingWarmRestarts(opt,T_0=10, T_mult=1, eta_min=1e-6, last_epoch=-1)\n",
    "        return {'optimizer': opt,'lr_scheduler':scheduler}\n",
    "\n",
    "    def train_dataloader(self):\n",
    "        return DataLoader(DataReader(self.train_set,aug), batch_size = self.batch_size, \n",
    "                          num_workers=self.numworker,\n",
    "                          pin_memory=True,shuffle=False)\n",
    "\n",
    "    def training_step(self,batch,batch_idx):\n",
    "        image,label=batch\n",
    "        mixed_x, y_a, y_b, lam=self.mixup_data(image,label)\n",
    "        out = self(mixed_x)\n",
    "        loss=self.mixup_criterion(out,y_a, y_b, lam)\n",
    "        acc=self.acc(out,label)\n",
    "        return {'loss':loss,'acc':acc}\n",
    "\n",
    "    def training_epoch_end(self, outputs):\n",
    "        loss=torch.stack([x[\"loss\"] for x in outputs]).mean().detach().cpu().numpy().round(2)\n",
    "        acc=torch.stack([x[\"acc\"] for x in outputs]).mean().detach().cpu().numpy().round(2)\n",
    "        self.trainacc.append(acc)\n",
    "        self.trainloss.append(loss)\n",
    "        #print('training loss accuracy ',self.current_epoch,loss, acc)\n",
    "        self.log('train_loss', loss)\n",
    "        self.log('train_acc', acc)\n",
    "        \n",
    "    def val_dataloader(self):\n",
    "        ds=DataLoader(DataReader(self.val_set,aug), batch_size = self.batch_size,\n",
    "                      num_workers=self.numworker,pin_memory=True, shuffle=False)\n",
    "        return ds\n",
    "\n",
    "    def validation_step(self,batch,batch_idx):\n",
    "        image,label=batch\n",
    "        out=self(image)\n",
    "        loss=self.criterion(out,label)\n",
    "        acc=self.acc(out,label)\n",
    "        return {'loss':loss,'acc':acc}\n",
    "\n",
    "    def validation_epoch_end(self, outputs):\n",
    "        loss=torch.stack([x[\"loss\"] for x in outputs]).mean().detach().cpu().numpy().round(2)\n",
    "        acc=torch.stack([x[\"acc\"] for x in outputs]).mean().detach().cpu().numpy().round(2)\n",
    "        self.valacc.append(acc)\n",
    "        self.valloss.append(loss)\n",
    "        print('validation loss accuracy ',self.current_epoch,loss, acc)\n",
    "        self.log('val_loss', loss)\n",
    "        self.log('val_acc', acc)"
   ]
  },
  {
   "cell_type": "code",
   "execution_count": 7,
   "id": "44d67b63",
   "metadata": {},
   "outputs": [],
   "source": [
    "model_name='efficientnetv2_rw_s'\n",
    "model=OurModel()"
   ]
  },
  {
   "cell_type": "code",
   "execution_count": 8,
   "id": "472f3d2e",
   "metadata": {},
   "outputs": [
    {
     "name": "stderr",
     "output_type": "stream",
     "text": [
      "Using 16bit native Automatic Mixed Precision (AMP)\n",
      "GPU available: True, used: True\n",
      "TPU available: False, using: 0 TPU cores\n",
      "IPU available: False, using: 0 IPUs\n"
     ]
    }
   ],
   "source": [
    "lr_monitor = LearningRateMonitor(logging_interval='epoch')\n",
    "checkpoint=ModelCheckpoint(dirpath='checkpoints',filename='file', monitor='val_acc', verbose=False, save_last=True, mode='max')\n",
    "trainer = Trainer(max_epochs=50, auto_lr_find=False, auto_scale_batch_size=False,\n",
    "                #deterministic=True,\n",
    "                gpus=-1,precision=16,\n",
    "                accumulate_grad_batches=1,\n",
    "                stochastic_weight_avg=False,\n",
    "                enable_progress_bar = False,\n",
    "                num_sanity_val_steps=0,\n",
    "                callbacks=[lr_monitor,checkpoint]\n",
    "                 )"
   ]
  },
  {
   "cell_type": "code",
   "execution_count": 9,
   "id": "4765b5b5",
   "metadata": {},
   "outputs": [],
   "source": [
    "# model.load_state_dict(torch.load('model.pt'))"
   ]
  },
  {
   "cell_type": "code",
   "execution_count": 10,
   "id": "1d69ed05",
   "metadata": {},
   "outputs": [
    {
     "name": "stderr",
     "output_type": "stream",
     "text": [
      "LOCAL_RANK: 0 - CUDA_VISIBLE_DEVICES: [0]\n",
      "2021-12-07 15:27:27.968553: I tensorflow/stream_executor/platform/default/dso_loader.cc:49] Successfully opened dynamic library libcudart.so.11.0\n",
      "\n",
      "  | Name      | Type             | Params\n",
      "-----------------------------------------------\n",
      "0 | model     | EfficientNet     | 23.9 M\n",
      "1 | fc1       | Linear           | 500 K \n",
      "2 | relu      | ReLU             | 0     \n",
      "3 | fc2       | Linear           | 2.5 K \n",
      "4 | acc       | Accuracy         | 0     \n",
      "5 | criterion | CrossEntropyLoss | 0     \n",
      "-----------------------------------------------\n",
      "24.4 M    Trainable params\n",
      "0         Non-trainable params\n",
      "24.4 M    Total params\n",
      "48.889    Total estimated model params size (MB)\n",
      "/home/talha/venv/lib/python3.8/site-packages/pytorch_lightning/callbacks/model_checkpoint.py:623: UserWarning: Checkpoint directory /media/talha/data/fivfre/classification/checkpoints exists and is not empty.\n",
      "  rank_zero_warn(f\"Checkpoint directory {dirpath} exists and is not empty.\")\n"
     ]
    },
    {
     "name": "stdout",
     "output_type": "stream",
     "text": [
      "validation loss accuracy  0 1.25 0.5\n",
      "validation loss accuracy  1 1.08 0.56\n",
      "validation loss accuracy  2 1.07 0.59\n",
      "validation loss accuracy  3 1.1 0.55\n",
      "validation loss accuracy  4 0.9 0.65\n",
      "validation loss accuracy  5 0.89 0.66\n",
      "validation loss accuracy  6 0.86 0.68\n",
      "validation loss accuracy  7 0.81 0.7\n",
      "validation loss accuracy  8 0.82 0.7\n",
      "validation loss accuracy  9 0.82 0.7\n",
      "validation loss accuracy  10 1.11 0.53\n",
      "validation loss accuracy  11 1.04 0.61\n",
      "validation loss accuracy  12 0.84 0.69\n",
      "validation loss accuracy  13 0.81 0.69\n",
      "validation loss accuracy  14 0.82 0.69\n",
      "validation loss accuracy  15 0.8 0.71\n",
      "validation loss accuracy  16 0.8 0.71\n",
      "validation loss accuracy  17 0.77 0.72\n",
      "validation loss accuracy  18 0.75 0.73\n",
      "validation loss accuracy  19 0.76 0.73\n",
      "validation loss accuracy  20 0.93 0.64\n",
      "validation loss accuracy  21 0.9 0.66\n",
      "validation loss accuracy  22 0.84 0.68\n",
      "validation loss accuracy  23 0.8 0.7\n",
      "validation loss accuracy  24 0.75 0.71\n",
      "validation loss accuracy  25 0.75 0.72\n",
      "validation loss accuracy  26 0.74 0.73\n",
      "validation loss accuracy  27 0.73 0.73\n",
      "validation loss accuracy  28 0.74 0.73\n",
      "validation loss accuracy  29 0.75 0.73\n",
      "validation loss accuracy  30 0.89 0.66\n",
      "validation loss accuracy  31 0.83 0.69\n",
      "validation loss accuracy  32 0.85 0.69\n",
      "validation loss accuracy  33 0.79 0.7\n",
      "validation loss accuracy  34 0.73 0.72\n",
      "validation loss accuracy  35 0.75 0.72\n",
      "validation loss accuracy  36 0.73 0.72\n",
      "validation loss accuracy  37 0.73 0.72\n",
      "validation loss accuracy  38 0.72 0.73\n",
      "validation loss accuracy  39 0.71 0.73\n",
      "validation loss accuracy  40 0.84 0.7\n",
      "validation loss accuracy  41 0.79 0.7\n",
      "validation loss accuracy  42 0.75 0.71\n",
      "validation loss accuracy  43 0.79 0.71\n",
      "validation loss accuracy  44 0.74 0.72\n",
      "validation loss accuracy  45 0.78 0.71\n",
      "validation loss accuracy  46 0.74 0.72\n",
      "validation loss accuracy  47 0.72 0.72\n",
      "validation loss accuracy  48 0.7 0.74\n",
      "validation loss accuracy  49 0.7 0.73\n"
     ]
    }
   ],
   "source": [
    "trainer.fit(model)"
   ]
  },
  {
   "cell_type": "code",
   "execution_count": 11,
   "id": "ad7689d0",
   "metadata": {},
   "outputs": [
    {
     "data": {
      "text/plain": [
       "Text(0.5, 1.0, 'accuracy')"
      ]
     },
     "execution_count": 11,
     "metadata": {},
     "output_type": "execute_result"
    },
    {
     "data": {
      "image/png": "[encoded data removed]",
      "text/plain": [
       "<Figure size 432x288 with 1 Axes>"
      ]
     },
     "metadata": {
      "needs_background": "light"
     },
     "output_type": "display_data"
    }
   ],
   "source": [
    "plt.plot(model.trainacc,label='train')\n",
    "plt.plot(model.valacc,label='val')\n",
    "plt.legend()\n",
    "plt.title('accuracy')"
   ]
  },
  {
   "cell_type": "code",
   "execution_count": 12,
   "id": "a5dbe474",
   "metadata": {},
   "outputs": [
    {
     "data": {
      "text/plain": [
       "Text(0.5, 1.0, 'loss')"
      ]
     },
     "execution_count": 12,
     "metadata": {},
     "output_type": "execute_result"
    },
    {
     "data": {
      "image/png": "[encoded data removed]",
      "text/plain": [
       "<Figure size 432x288 with 1 Axes>"
      ]
     },
     "metadata": {
      "needs_background": "light"
     },
     "output_type": "display_data"
    }
   ],
   "source": [
    "plt.plot(model.trainloss,label='train')\n",
    "plt.plot(model.valloss,label='val')\n",
    "plt.legend()\n",
    "plt.title('loss')"
   ]
  },
  {
   "cell_type": "code",
   "execution_count": 13,
   "id": "d14f58b2",
   "metadata": {},
   "outputs": [
    {
     "name": "stderr",
     "output_type": "stream",
     "text": [
      "LOCAL_RANK: 0 - CUDA_VISIBLE_DEVICES: [0]\n"
     ]
    },
    {
     "name": "stdout",
     "output_type": "stream",
     "text": [
      "validation loss accuracy  49 0.7 0.73\n",
      "--------------------------------------------------------------------------------\n",
      "DATALOADER:0 VALIDATE RESULTS\n",
      "{'val_acc': 0.7300000190734863, 'val_loss': 0.699999988079071}\n",
      "--------------------------------------------------------------------------------\n"
     ]
    },
    {
     "data": {
      "text/plain": [
       "[{'val_loss': 0.699999988079071, 'val_acc': 0.7300000190734863}]"
      ]
     },
     "execution_count": 13,
     "metadata": {},
     "output_type": "execute_result"
    }
   ],
   "source": [
    "trainer.validate(model)"
   ]
  },
  {
   "cell_type": "code",
   "execution_count": 14,
   "id": "3e6bb3f7",
   "metadata": {},
   "outputs": [],
   "source": [
    "torch.save(model.state_dict(), 'model.pt')"
   ]
  },
  {
   "cell_type": "code",
   "execution_count": 15,
   "id": "afc7034f",
   "metadata": {},
   "outputs": [],
   "source": [
    "loader=model.val_dataloader()\n",
    "model.cuda().eval()\n",
    "labels,preds=[],[]\n",
    "with torch.no_grad():\n",
    "    for batch in loader:\n",
    "        image,label=batch\n",
    "        pred=model(image.cuda())\n",
    "        pred=torch.argmax(pred,dim=1).detach().cpu().numpy()\n",
    "        labels.append(label.cpu().numpy())\n",
    "        preds.append(pred)"
   ]
  },
  {
   "cell_type": "code",
   "execution_count": 16,
   "id": "c0c19139",
   "metadata": {},
   "outputs": [
    {
     "name": "stdout",
     "output_type": "stream",
     "text": [
      "              precision    recall  f1-score   support\n",
      "\n",
      "           0       0.73      0.91      0.81      1011\n",
      "           1       0.72      0.74      0.73       885\n",
      "           2       0.70      0.69      0.70       894\n",
      "           3       0.74      0.61      0.67       951\n",
      "           4       0.78      0.69      0.73       909\n",
      "\n",
      "    accuracy                           0.73      4650\n",
      "   macro avg       0.73      0.73      0.73      4650\n",
      "weighted avg       0.73      0.73      0.73      4650\n",
      "\n"
     ]
    }
   ],
   "source": [
    "from sklearn.metrics import classification_report\n",
    "print(classification_report(np.hstack(labels),np.hstack(preds)))"
   ]
  },
  {
   "cell_type": "code",
   "execution_count": 17,
   "id": "d64659f7",
   "metadata": {},
   "outputs": [],
   "source": [
    "import ttach as tta\n",
    "transforms = tta.Compose(\n",
    "    [\n",
    "        tta.HorizontalFlip(),\n",
    "        tta.VerticalFlip(),\n",
    "        tta.Rotate90(angles=[0, 90,180]),\n",
    "    ]\n",
    ")\n",
    "\n",
    "tta_model = tta.ClassificationTTAWrapper(model, transforms)"
   ]
  },
  {
   "cell_type": "code",
   "execution_count": 18,
   "id": "377d3cd1",
   "metadata": {},
   "outputs": [],
   "source": [
    "loader=model.val_dataloader()\n",
    "model.cuda().eval()\n",
    "labels,preds=[],[]\n",
    "with torch.no_grad():\n",
    "    for batch in loader:\n",
    "        image,label=batch\n",
    "        pred=tta_model(image.cuda())\n",
    "        pred=torch.argmax(pred,dim=1).detach().cpu().numpy()\n",
    "        labels.append(label.cpu().numpy())\n",
    "        preds.append(pred)"
   ]
  },
  {
   "cell_type": "code",
   "execution_count": 19,
   "id": "1ad08050",
   "metadata": {},
   "outputs": [
    {
     "name": "stdout",
     "output_type": "stream",
     "text": [
      "              precision    recall  f1-score   support\n",
      "\n",
      "           0       0.73      0.93      0.82      1011\n",
      "           1       0.75      0.77      0.76       885\n",
      "           2       0.74      0.69      0.72       894\n",
      "           3       0.75      0.64      0.69       951\n",
      "           4       0.81      0.70      0.75       909\n",
      "\n",
      "    accuracy                           0.75      4650\n",
      "   macro avg       0.76      0.75      0.75      4650\n",
      "weighted avg       0.76      0.75      0.75      4650\n",
      "\n"
     ]
    }
   ],
   "source": [
    "from sklearn.metrics import classification_report\n",
    "print(classification_report(np.hstack(labels),np.hstack(preds)))"
   ]
  },
  {
   "cell_type": "code",
   "execution_count": null,
   "id": "b81e7ede",
   "metadata": {},
   "outputs": [],
   "source": []
  }
 ],
 "metadata": {
  "kernelspec": {
   "display_name": "Python 3 (ipykernel)",
   "language": "python",
   "name": "python3"
  },
  "language_info": {
   "codemirror_mode": {
    "name": "ipython",
    "version": 3
   },
   "file_extension": ".py",
   "mimetype": "text/x-python",
   "name": "python",
   "nbconvert_exporter": "python",
   "pygments_lexer": "ipython3",
   "version": "3.8.10"
  }
 },
 "nbformat": 4,
 "nbformat_minor": 5
}
