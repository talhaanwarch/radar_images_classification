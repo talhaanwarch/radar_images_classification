{
 "cells": [
  {
   "cell_type": "code",
   "execution_count": 1,
   "id": "f3e197b4",
   "metadata": {},
   "outputs": [],
   "source": [
    "import numpy as np\n",
    "import pandas as pd\n",
    "import matplotlib.pyplot as plt\n",
    "import os\n",
    "from pytorch_lightning import seed_everything, LightningModule, Trainer\n",
    "from sklearn.utils import class_weight\n",
    "import torch.nn as nn\n",
    "import torch\n",
    "from pytorch_lightning.callbacks import EarlyStopping,ModelCheckpoint,LearningRateMonitor\n",
    "from torch.optim.lr_scheduler import CyclicLR, ReduceLROnPlateau,CosineAnnealingWarmRestarts,OneCycleLR,CosineAnnealingLR\n",
    "import torchvision\n",
    "from sklearn.metrics import classification_report,f1_score,accuracy_score\n",
    "from PIL import Image\n",
    "from torch.utils.data import DataLoader, Dataset,random_split\n",
    "import timm\n",
    "import torchmetrics\n",
    "import torchvision.models as models"
   ]
  },
  {
   "cell_type": "code",
   "execution_count": 2,
   "id": "2f49662b",
   "metadata": {},
   "outputs": [],
   "source": [
    "img_size=224\n",
    "import albumentations as A\n",
    "from albumentations.pytorch import ToTensorV2\n",
    "aug= A.Compose([\n",
    "            A.Resize(img_size,img_size),\n",
    "            #A.RandomCrop(img_size,img_size),\n",
    "            A.HorizontalFlip(0.5),\n",
    "            A.VerticalFlip(),\n",
    "            A.RandomRotate90(),\n",
    "#             A.ShiftScaleRotate(rotate_limit=3),\n",
    "            #A.CoarseDropout(8,64,64),\n",
    "            A.Normalize(),\n",
    "            ToTensorV2(p=1.0),\n",
    "        ], p=1.0)"
   ]
  },
  {
   "cell_type": "code",
   "execution_count": 3,
   "id": "9a6424f2",
   "metadata": {},
   "outputs": [],
   "source": [
    "class DataReader(Dataset):\n",
    "    def __init__(self, dataset, transform=None):\n",
    "        self.dataset = dataset\n",
    "        self.transform = transform\n",
    "\n",
    "    def __getitem__(self, index):\n",
    "        x=self.dataset[index][0]\n",
    "        y=self.dataset[index][1]\n",
    "        if self.transform:\n",
    "            x=np.array(x)\n",
    "            x=self.transform(image=x)['image']\n",
    "        return x, y\n",
    "    \n",
    "    def __len__(self):\n",
    "        return len(self.dataset)"
   ]
  },
  {
   "cell_type": "code",
   "execution_count": 4,
   "id": "07251f65",
   "metadata": {},
   "outputs": [],
   "source": [
    "class LabelSmoothing(nn.Module):\n",
    "    \"\"\"NLL loss with label smoothing.\n",
    "    \"\"\"\n",
    "    def __init__(self, smoothing=0.0):\n",
    "        \"\"\"Constructor for the LabelSmoothing module.\n",
    "        :param smoothing: label smoothing factor\n",
    "        \"\"\"\n",
    "        super(LabelSmoothing, self).__init__()\n",
    "        self.confidence = 1.0 - smoothing\n",
    "        self.smoothing = smoothing\n",
    "\n",
    "    def forward(self, x, target):\n",
    "        logprobs = torch.nn.functional.log_softmax(x, dim=-1)\n",
    "        nll_loss = -logprobs.gather(dim=-1, index=target.unsqueeze(1))\n",
    "        nll_loss = nll_loss.squeeze(1)\n",
    "        smooth_loss = -logprobs.mean(dim=-1)\n",
    "        loss = self.confidence * nll_loss + self.smoothing * smooth_loss\n",
    "        return loss.mean()\n"
   ]
  },
  {
   "cell_type": "code",
   "execution_count": 5,
   "id": "96cdb5d7",
   "metadata": {},
   "outputs": [],
   "source": [
    "class FocalLoss(nn.Module):\n",
    "    def __init__(self, gamma=2,alpha=0.5):\n",
    "        super(FocalLoss, self).__init__()\n",
    "        self.gamma=gamma\n",
    "        self.alpha=alpha\n",
    "\n",
    "    def forward(self,outputs,targets):\n",
    "        ce_loss = torch.nn.functional.cross_entropy(outputs, targets, reduction='none') # important to add reduction='none' to keep per-batch-item loss\n",
    "        pt = torch.exp(-ce_loss)\n",
    "        focal_loss = (self.alpha * (1-pt)**self.gamma * ce_loss).mean()\n",
    "        return focal_loss"
   ]
  },
  {
   "cell_type": "code",
   "execution_count": 6,
   "id": "bb060572",
   "metadata": {},
   "outputs": [],
   "source": [
    "class OurModel(LightningModule):\n",
    "    def __init__(self):\n",
    "        super(OurModel,self).__init__()\n",
    "        #architecute\n",
    "        self.model =  timm.create_model(model_name,pretrained=True)\n",
    "        self.fc1=nn.Linear(1000,500)\n",
    "        self.relu=nn.ReLU()\n",
    "        self.fc2= nn.Linear(500,5)\n",
    " \n",
    "        #parameters\n",
    "        self.lr=1e-3\n",
    "        self.batch_size=64\n",
    "        self.numworker=12\n",
    "        self.acc = torchmetrics.Accuracy()\n",
    "        self.criterion=LabelSmoothing()\n",
    "        \n",
    "        self.trainacc,self.valacc=[],[]\n",
    "        self.trainloss,self.valloss=[],[]\n",
    "        \n",
    "        self.scheduler='warm'\n",
    "        \n",
    "        self.dataset=torchvision.datasets.ImageFolder('dataset')\n",
    "        \n",
    "        self.train_set, self.val_set =random_split(self.dataset, \n",
    "                            [int(len(self.dataset)*0.7), int(len(self.dataset)*0.3)])\n",
    "    def forward(self,x):\n",
    "        x= self.model(x)\n",
    "        x=self.fc1(x)\n",
    "        x=self.relu(x)\n",
    "        x=self.fc2(x)\n",
    "        return x\n",
    "\n",
    "    def configure_optimizers(self):\n",
    "        opt=torch.optim.AdamW(params=self.parameters(),lr=self.lr )\n",
    "        if self.scheduler=='cosine':\n",
    "            scheduler=CosineAnnealingLR(opt,T_max=10,  eta_min=1e-6, last_epoch=-1)\n",
    "            return {'optimizer': opt,'lr_scheduler':scheduler}\n",
    "        elif self.scheduler=='reduce':\n",
    "            scheduler=ReduceLROnPlateau(opt,mode='min', factor=0.5, patience=5)\n",
    "            return {'optimizer': opt,'lr_scheduler':scheduler,'monitor':'val_loss'}\n",
    "        elif self.scheduler=='warm':\n",
    "            scheduler=CosineAnnealingWarmRestarts(opt,T_0=10, T_mult=1, eta_min=1e-6, last_epoch=-1)\n",
    "            return {'optimizer': opt,'lr_scheduler':scheduler}\n",
    "        elif self.scheduler=='constant':\n",
    "            return opt\n",
    " \n",
    "    def train_dataloader(self):\n",
    "        return DataLoader(DataReader(self.train_set,aug), batch_size = self.batch_size, \n",
    "                          num_workers=self.numworker,\n",
    "                          pin_memory=True,shuffle=False)\n",
    "\n",
    "    def training_step(self,batch,batch_idx):\n",
    "        image,label=batch\n",
    "        out = self(image)\n",
    "        loss=self.criterion(out,label)\n",
    "        acc=self.acc(out,label)\n",
    "        return {'loss':loss,'acc':acc}\n",
    "\n",
    "    def training_epoch_end(self, outputs):\n",
    "        loss=torch.stack([x[\"loss\"] for x in outputs]).mean().detach().cpu().numpy().round(2)\n",
    "        acc=torch.stack([x[\"acc\"] for x in outputs]).mean().detach().cpu().numpy().round(2)\n",
    "        self.trainacc.append(acc)\n",
    "        self.trainloss.append(loss)\n",
    "        #print('training loss accuracy ',self.current_epoch,loss, acc)\n",
    "        self.log('train_loss', loss)\n",
    "        self.log('train_acc', acc)\n",
    "        \n",
    "    def val_dataloader(self):\n",
    "        ds=DataLoader(DataReader(self.val_set,aug), batch_size = self.batch_size,\n",
    "                      num_workers=self.numworker,pin_memory=True, shuffle=False)\n",
    "        return ds\n",
    "\n",
    "    def validation_step(self,batch,batch_idx):\n",
    "        image,label=batch\n",
    "        out=self(image)\n",
    "        loss=self.criterion(out,label)\n",
    "        acc=self.acc(out,label)\n",
    "        return {'loss':loss,'acc':acc}\n",
    "\n",
    "    def validation_epoch_end(self, outputs):\n",
    "        loss=torch.stack([x[\"loss\"] for x in outputs]).mean().detach().cpu().numpy().round(2)\n",
    "        acc=torch.stack([x[\"acc\"] for x in outputs]).mean().detach().cpu().numpy().round(2)\n",
    "        self.valacc.append(acc)\n",
    "        self.valloss.append(loss)\n",
    "        print('validation loss accuracy ',self.current_epoch,loss, acc)\n",
    "        self.log('val_loss', loss)\n",
    "        self.log(''val_acc'', acc)"
   ]
  },
  {
   "cell_type": "code",
   "execution_count": 7,
   "id": "5fee3235",
   "metadata": {},
   "outputs": [],
   "source": [
    "model_name='resnest50d'\n",
    "model=OurModel()"
   ]
  },
  {
   "cell_type": "code",
   "execution_count": 8,
   "id": "58bdb337",
   "metadata": {},
   "outputs": [
    {
     "name": "stderr",
     "output_type": "stream",
     "text": [
      "Using 16bit native Automatic Mixed Precision (AMP)\n",
      "GPU available: True, used: True\n",
      "TPU available: False, using: 0 TPU cores\n",
      "IPU available: False, using: 0 IPUs\n"
     ]
    }
   ],
   "source": [
    "lr_monitor = LearningRateMonitor(logging_interval='epoch')\n",
    "checkpoint=ModelCheckpoint(filename='file', monitor='val_acc', verbose=False, save_last=True, mode='max')\n",
    "trainer = Trainer(max_epochs=50, auto_lr_find=False, auto_scale_batch_size=False,\n",
    "                #deterministic=True,\n",
    "                gpus=-1,precision=16,\n",
    "                accumulate_grad_batches=1,\n",
    "                stochastic_weight_avg=False,\n",
    "                enable_progress_bar = False,\n",
    "                num_sanity_val_steps=0,\n",
    "                callbacks=[lr_monitor]\n",
    "                 )"
   ]
  },
  {
   "cell_type": "code",
   "execution_count": 9,
   "id": "39f58623",
   "metadata": {},
   "outputs": [
    {
     "name": "stderr",
     "output_type": "stream",
     "text": [
      "LOCAL_RANK: 0 - CUDA_VISIBLE_DEVICES: [0]\n",
      "2021-12-07 09:37:04.478332: I tensorflow/stream_executor/platform/default/dso_loader.cc:49] Successfully opened dynamic library libcudart.so.11.0\n",
      "\n",
      "  | Name      | Type           | Params\n",
      "---------------------------------------------\n",
      "0 | model     | ResNet         | 27.5 M\n",
      "1 | fc1       | Linear         | 500 K \n",
      "2 | relu      | ReLU           | 0     \n",
      "3 | fc2       | Linear         | 2.5 K \n",
      "4 | acc       | Accuracy       | 0     \n",
      "5 | criterion | LabelSmoothing | 0     \n",
      "---------------------------------------------\n",
      "28.0 M    Trainable params\n",
      "0         Non-trainable params\n",
      "28.0 M    Total params\n",
      "55.972    Total estimated model params size (MB)\n"
     ]
    },
    {
     "name": "stdout",
     "output_type": "stream",
     "text": [
      "validation loss accuracy  0 2.16 0.34\n",
      "validation loss accuracy  1 1.01 0.56\n",
      "validation loss accuracy  2 0.92 0.59\n",
      "validation loss accuracy  3 0.85 0.64\n",
      "validation loss accuracy  4 0.84 0.64\n",
      "validation loss accuracy  5 0.84 0.65\n",
      "validation loss accuracy  6 0.76 0.68\n",
      "validation loss accuracy  7 0.73 0.69\n",
      "validation loss accuracy  8 0.71 0.7\n",
      "validation loss accuracy  9 0.7 0.71\n",
      "validation loss accuracy  10 1.57 0.43\n",
      "validation loss accuracy  11 0.91 0.62\n",
      "validation loss accuracy  12 0.8 0.66\n",
      "validation loss accuracy  13 0.8 0.67\n",
      "validation loss accuracy  14 0.77 0.67\n",
      "validation loss accuracy  15 0.76 0.68\n",
      "validation loss accuracy  16 0.71 0.7\n",
      "validation loss accuracy  17 0.7 0.7\n",
      "validation loss accuracy  18 0.68 0.72\n",
      "validation loss accuracy  19 0.69 0.71\n",
      "validation loss accuracy  20 0.99 0.62\n",
      "validation loss accuracy  21 0.9 0.63\n",
      "validation loss accuracy  22 0.89 0.63\n",
      "validation loss accuracy  23 0.73 0.7\n",
      "validation loss accuracy  24 0.75 0.68\n",
      "validation loss accuracy  25 0.71 0.71\n",
      "validation loss accuracy  26 0.69 0.72\n",
      "validation loss accuracy  27 0.69 0.72\n",
      "validation loss accuracy  28 0.69 0.73\n",
      "validation loss accuracy  29 0.7 0.72\n",
      "validation loss accuracy  30 0.95 0.63\n",
      "validation loss accuracy  31 0.75 0.68\n",
      "validation loss accuracy  32 0.74 0.7\n",
      "validation loss accuracy  33 0.76 0.69\n",
      "validation loss accuracy  34 0.77 0.68\n",
      "validation loss accuracy  35 0.71 0.7\n",
      "validation loss accuracy  36 0.71 0.7\n",
      "validation loss accuracy  37 0.69 0.72\n",
      "validation loss accuracy  38 0.73 0.72\n",
      "validation loss accuracy  39 0.7 0.72\n",
      "validation loss accuracy  40 0.75 0.69\n",
      "validation loss accuracy  41 0.76 0.7\n",
      "validation loss accuracy  42 0.74 0.69\n",
      "validation loss accuracy  43 0.72 0.71\n",
      "validation loss accuracy  44 0.72 0.71\n",
      "validation loss accuracy  45 0.74 0.7\n",
      "validation loss accuracy  46 0.7 0.71\n",
      "validation loss accuracy  47 0.73 0.71\n",
      "validation loss accuracy  48 0.75 0.72\n",
      "validation loss accuracy  49 0.75 0.72\n"
     ]
    }
   ],
   "source": [
    "trainer.fit(model)"
   ]
  },
  {
   "cell_type": "code",
   "execution_count": 10,
   "id": "364cf66e",
   "metadata": {},
   "outputs": [
    {
     "data": {
      "text/plain": [
       "Text(0.5, 1.0, 'accuracy')"
      ]
     },
     "execution_count": 10,
     "metadata": {},
     "output_type": "execute_result"
    },
    {
     "data": {
      "image/png": "[encoded data removed]",
      "text/plain": [
       "<Figure size 432x288 with 1 Axes>"
      ]
     },
     "metadata": {
      "needs_background": "light"
     },
     "output_type": "display_data"
    }
   ],
   "source": [
    "plt.plot(model.trainacc,label='train')\n",
    "plt.plot(model.valacc,label='val')\n",
    "plt.legend()\n",
    "plt.title('accuracy')"
   ]
  },
  {
   "cell_type": "code",
   "execution_count": 11,
   "id": "6d074a9c",
   "metadata": {},
   "outputs": [
    {
     "data": {
      "text/plain": [
       "Text(0.5, 1.0, 'loss')"
      ]
     },
     "execution_count": 11,
     "metadata": {},
     "output_type": "execute_result"
    },
    {
     "data": {
      "image/png": "[encoded data removed]",
      "text/plain": [
       "<Figure size 432x288 with 1 Axes>"
      ]
     },
     "metadata": {
      "needs_background": "light"
     },
     "output_type": "display_data"
    }
   ],
   "source": [
    "plt.plot(model.trainloss,label='train')\n",
    "plt.plot(model.valloss,label='val')\n",
    "plt.legend()\n",
    "plt.title('loss')"
   ]
  },
  {
   "cell_type": "code",
   "execution_count": 12,
   "id": "00ef88a9",
   "metadata": {},
   "outputs": [
    {
     "name": "stderr",
     "output_type": "stream",
     "text": [
      "LOCAL_RANK: 0 - CUDA_VISIBLE_DEVICES: [0]\n"
     ]
    },
    {
     "name": "stdout",
     "output_type": "stream",
     "text": [
      "validation loss accuracy  49 0.74 0.72\n",
      "--------------------------------------------------------------------------------\n",
      "DATALOADER:0 VALIDATE RESULTS\n",
      "{'val_acc': 0.7200000286102295, 'val_loss': 0.7400000095367432}\n",
      "--------------------------------------------------------------------------------\n"
     ]
    },
    {
     "data": {
      "text/plain": [
       "[{'val_loss': 0.7400000095367432, 'val_acc': 0.7200000286102295}]"
      ]
     },
     "execution_count": 12,
     "metadata": {},
     "output_type": "execute_result"
    }
   ],
   "source": [
    "trainer.validate(model)"
   ]
  },
  {
   "cell_type": "code",
   "execution_count": 13,
   "id": "6b9f8e91",
   "metadata": {},
   "outputs": [],
   "source": [
    "loader=model.val_dataloader()\n",
    "model.cuda().eval()\n",
    "labels,preds=[],[]\n",
    "with torch.no_grad():\n",
    "    for batch in loader:\n",
    "        image,label=batch\n",
    "        pred=model(image.cuda())\n",
    "        pred=torch.argmax(pred,dim=1).detach().cpu().numpy()\n",
    "        labels.append(label.cpu().numpy())\n",
    "        preds.append(pred)"
   ]
  },
  {
   "cell_type": "code",
   "execution_count": 14,
   "id": "778310bb",
   "metadata": {},
   "outputs": [
    {
     "name": "stdout",
     "output_type": "stream",
     "text": [
      "              precision    recall  f1-score   support\n",
      "\n",
      "           0       0.67      0.94      0.78      1006\n",
      "           1       0.80      0.66      0.72       934\n",
      "           2       0.66      0.70      0.68       870\n",
      "           3       0.73      0.62      0.67       917\n",
      "           4       0.82      0.69      0.75       923\n",
      "\n",
      "    accuracy                           0.72      4650\n",
      "   macro avg       0.74      0.72      0.72      4650\n",
      "weighted avg       0.74      0.72      0.72      4650\n",
      "\n"
     ]
    }
   ],
   "source": [
    "from sklearn.metrics import classification_report\n",
    "print(classification_report(np.hstack(labels),np.hstack(preds)))"
   ]
  },
  {
   "cell_type": "code",
   "execution_count": 15,
   "id": "6ba7944b",
   "metadata": {},
   "outputs": [],
   "source": [
    "import ttach as tta\n",
    "transforms = tta.Compose(\n",
    "    [\n",
    "        tta.HorizontalFlip(),\n",
    "        tta.VerticalFlip(),\n",
    "        tta.Rotate90(angles=[0, 90,180]),\n",
    "    ]\n",
    ")\n",
    "\n",
    "tta_model = tta.ClassificationTTAWrapper(model, transforms)"
   ]
  },
  {
   "cell_type": "code",
   "execution_count": 16,
   "id": "f4ff4669",
   "metadata": {},
   "outputs": [],
   "source": [
    "loader=model.val_dataloader()\n",
    "model.cuda().eval()\n",
    "labels,preds=[],[]\n",
    "with torch.no_grad():\n",
    "    for batch in loader:\n",
    "        image,label=batch\n",
    "        pred=tta_model(image.cuda())\n",
    "        pred=torch.argmax(pred,dim=1).detach().cpu().numpy()\n",
    "        labels.append(label.cpu().numpy())\n",
    "        preds.append(pred)"
   ]
  },
  {
   "cell_type": "code",
   "execution_count": 17,
   "id": "75ec8335",
   "metadata": {},
   "outputs": [
    {
     "name": "stdout",
     "output_type": "stream",
     "text": [
      "              precision    recall  f1-score   support\n",
      "\n",
      "           0       0.69      0.95      0.80      1006\n",
      "           1       0.81      0.67      0.73       934\n",
      "           2       0.67      0.71      0.69       870\n",
      "           3       0.73      0.63      0.68       917\n",
      "           4       0.82      0.69      0.75       923\n",
      "\n",
      "    accuracy                           0.73      4650\n",
      "   macro avg       0.74      0.73      0.73      4650\n",
      "weighted avg       0.74      0.73      0.73      4650\n",
      "\n"
     ]
    }
   ],
   "source": [
    "from sklearn.metrics import classification_report\n",
    "print(classification_report(np.hstack(labels),np.hstack(preds)))"
   ]
  },
  {
   "cell_type": "code",
   "execution_count": null,
   "id": "d7dabfc3",
   "metadata": {},
   "outputs": [],
   "source": []
  }
 ],
 "metadata": {
  "kernelspec": {
   "display_name": "Python 3 (ipykernel)",
   "language": "python",
   "name": "python3"
  },
  "language_info": {
   "codemirror_mode": {
    "name": "ipython",
    "version": 3
   },
   "file_extension": ".py",
   "mimetype": "text/x-python",
   "name": "python",
   "nbconvert_exporter": "python",
   "pygments_lexer": "ipython3",
   "version": "3.8.10"
  }
 },
 "nbformat": 4,
 "nbformat_minor": 5
}
